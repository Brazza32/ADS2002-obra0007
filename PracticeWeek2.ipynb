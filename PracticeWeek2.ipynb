{
  "nbformat": 4,
  "nbformat_minor": 0,
  "metadata": {
    "colab": {
      "provenance": [],
      "authorship_tag": "ABX9TyPoz7S7FEc5gAJucQGoH6sp",
      "include_colab_link": true
    },
    "kernelspec": {
      "name": "python3",
      "display_name": "Python 3"
    },
    "language_info": {
      "name": "python"
    }
  },
  "cells": [
    {
      "cell_type": "markdown",
      "metadata": {
        "id": "view-in-github",
        "colab_type": "text"
      },
      "source": [
        "<a href=\"https://colab.research.google.com/github/Brazza32/ADS2002-obra0007/blob/main/PracticeWeek2.ipynb\" target=\"_parent\"><img src=\"https://colab.research.google.com/assets/colab-badge.svg\" alt=\"Open In Colab\"/></a>"
      ]
    },
    {
      "cell_type": "code",
      "execution_count": 15,
      "metadata": {
        "colab": {
          "base_uri": "https://localhost:8080/"
        },
        "id": "DHbJvQJBFaeA",
        "outputId": "2e3831a2-cf83-4aec-acb6-810544f0fe11"
      },
      "outputs": [
        {
          "output_type": "stream",
          "name": "stdout",
          "text": [
            "R Squared: 0.8267854518827914\n",
            "Intercept: 37.227270116447215\n",
            "Coeffcients: [-3.87783074 -0.03177295]\n"
          ]
        }
      ],
      "source": [
        "import pandas as pd\n",
        "import numpy as np\n",
        "from sklearn.linear_model import LinearRegression\n",
        "\n",
        "mtc = pd.read_csv('/content/sample_data/mtcars.csv')\n",
        "\n",
        "\n",
        "\n",
        "x = mtc[['wt','hp']]\n",
        "y = mtc['mpg']\n",
        "\n",
        "model = LinearRegression().fit(x, y)\n",
        "\n",
        "r_sq = model.score(x, y)\n",
        "print(f\"R Squared: {r_sq}\")\n",
        "print(f\"Intercept: {model.intercept_}\")\n",
        "print(f\"Coeffcients: {model.coef_}\")\n"
      ]
    }
  ]
}